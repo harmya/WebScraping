{
 "cells": [
  {
   "cell_type": "code",
   "execution_count": null,
   "metadata": {},
   "outputs": [],
   "source": [
    "import pandas as pd\n",
    "import requests\n",
    "from bs4 import BeautifulSoup\n",
    "import numpy as np"
   ]
  },
  {
   "cell_type": "markdown",
   "metadata": {},
   "source": [
    "# Web Scraping for Amazon reviews"
   ]
  },
  {
   "cell_type": "code",
   "execution_count": null,
   "metadata": {},
   "outputs": [],
   "source": [
    "import requests\n",
    "from bs4 import BeautifulSoup\n",
    "import pandas as pd\n",
    "\n",
    "reviewList = []\n",
    "\n",
    "headers = {\n",
    "    'User-Agent': 'My User Agent 1.0',\n",
    "    'From': 'youremail@domain.example'  # This is another valid field\n",
    "}\n",
    "\n",
    "links = [\n",
    "    'https://www.amazon.com/Electric-Skateboard-Longboard-Hub-Motor-Adjustment/product-reviews/B08R8P471F/ref=cm_cr_arp_d_paging_btm_next_2?ie=UTF8&reviewerType=all_reviews&pageNumber='\n",
    "    ]\n",
    "'''\n",
    "    'https://www.amazon.com/Magneto-Kicktail-Cruiser-Longboard-Skateboard/product-reviews/B07T3BS4MX/ref=cm_cr_arp_d_paging_btm_next_2?ie=UTF8&reviewerType=all_reviews&pageNumber=',\n",
    "    'https://www.amazon.com/MEKETEC-Skateboards-Complete-Skateboard-Beginners/product-reviews/B074XTJ75S/ref=cm_cr_arp_d_paging_btm_next_2?ie=UTF8&reviewerType=all_reviews&pageNumber=',\n",
    "    'https://www.amazon.com/KPC-Pro-Skateboard-Complete-Heartagram/product-reviews/B004UOL6JG/ref=cm_cr_arp_d_paging_btm_next_2?ie=UTF8&reviewerType=all_reviews&pageNumber='\n",
    "    'https://www.amazon.com/Atom-Longboards-All-Terrain-Longboard-Woody/product-reviews/B01IP5VQBI/ref=cm_cr_arp_d_paging_btm_next_2?ie=UTF8&reviewerType=all_reviews&pageNumber='\n",
    "    'https://www.amazon.com/Skitch-Complete-Skateboards-Beginners-Skateboard/product-reviews/B01FYVC2BY/ref=cm_cr_arp_d_paging_btm_next_2?ie=UTF8&reviewerType=all_reviews&pageNumber=',\n",
    "    'https://www.amazon.com/WOOKRAYS-Electric-Skateboard-Skateboard-Adjustment/product-reviews/B08BNS3GKB/ref=cm_cr_arp_d_paging_btm_next_2?ie=UTF8&reviewerType=all_reviews&pageNumber=',\n",
    "    'https://www.amazon.com/Xtreme-Professional-Complete-Longboard-Skateboard/product-reviews/B019ZFWQDO/ref=cm_cr_arp_d_paging_btm_next_2?ie=UTF8&reviewerType=all_reviews&pageNumber=',\n",
    "    'https://www.amazon.com/Teamgee-Electric-Skateboard-Adjustment-Longboard/product-reviews/B08LZHWX95/ref=cm_cr_arp_d_paging_btm_next_2?ie=UTF8&reviewerType=all_reviews&pageNumber=',\n",
    "    'https://www.amazon.com/teamgee-Electric-Skateboard-Longboard-Wireless/product-reviews/B07GGTR2X6/ref=cm_cr_arp_d_paging_btm_next_2?ie=UTF8&reviewerType=all_reviews&pageNumber=',\n",
    "    'https://www.amazon.com/BLITZART-Skateboard-Longboard-Skateboard-Electronic/product-reviews/B078HM367M/ref=cm_cr_arp_d_paging_btm_next_2?ie=UTF8&reviewerType=all_reviews&pageNumber=',\n",
    "    'https://www.amazon.com/Swagtron-Swagskate-Skateboard-Kick-Assist-Move-More/product-reviews/B07TGFBJGK/ref=cm_cr_arp_d_paging_btm_next_2?ie=UTF8&reviewerType=all_reviews&pageNumber=','https://www.amazon.com/Razor-E100-Glow-Electric-Scooter/product-reviews/B00KCK55IU/ref=cm_cr_arp_d_paging_btm_next_2?ie=UTF8&reviewerType=all_reviews&pageNumber=',\n",
    "    'https://www.amazon.com/Razor-Miniature-Euro-Style-Electric-Scooter/product-reviews/B000I44P90/ref=cm_cr_arp_d_paging_btm_next_2?ie=UTF8&reviewerType=all_reviews&pageNumber=',\n",
    "    'https://www.amazon.com/Scooters-Non-Electric-Foldable-Adjustable-Anti-Slip/product-reviews/B0934Q87SZ/ref=cm_cr_arp_d_paging_btm_next_2?ie=UTF8&reviewerType=all_reviews&pageNumber=',\n",
    "    'https://www.amazon.com/Hurtle-3-Wheeled-Scooter-Lean-Steer/product-reviews/B07VY9Q95Q/ref=cm_cr_arp_d_paging_btm_next_2?ie=UTF8&reviewerType=all_reviews&pageNumber=',\n",
    "    'https://www.amazon.com/Ninebot-Electric-Long-range-Foldable-Portable/product-reviews/B07WYXXL4V/ref=cm_cr_arp_d_paging_btm_next_2?ie=UTF8&reviewerType=all_reviews&pageNumber=',\n",
    "    'https://www.amazon.com/6KU-Scooter-Adjustable-Flashing-Children/product-reviews/B07BFXLF3G/ref=cm_cr_arp_d_paging_btm_next_2?ie=UTF8&reviewerType=all_reviews&pageNumber='\n",
    "]\n",
    "'''\n",
    "\n",
    "def get_soup(url):\n",
    "    r = requests.get(url, headers=headers)\n",
    "    soup = BeautifulSoup(r.text, 'html.parser')\n",
    "    return soup\n",
    "\n",
    "\n",
    "def get_reviews(soup):\n",
    "    reviews = soup.find_all('div', {'data-hook': 'review'})\n",
    "    try:\n",
    "        for item in reviews:\n",
    "            text = item.find('span', {'data-hook': 'review-body'}).text.strip()\n",
    "            text = text.replace(\"The media could not be loaded.\", \" \")\n",
    "            text = text.strip()\n",
    "\n",
    "            review = {\n",
    "                'text': text\n",
    "            }\n",
    "            reviewList.append(review)\n",
    "    except:\n",
    "        pass\n",
    "\n",
    "\n",
    "def get_link(link):\n",
    "    for i in range(1, 999):\n",
    "        string = f'{link}{i}'\n",
    "        soup = get_soup(string)\n",
    "        get_reviews(soup)\n",
    "        print(len(reviewList))\n",
    "        if soup.find('li', {'class': 'a-disabled a-last'}):\n",
    "            break\n",
    "\n",
    "\n",
    "for page in links:\n",
    "    get_link(page)\n",
    "\n",
    "df = pd.DataFrame(reviewList)\n",
    "df.to_csv('/dataFiles/AmazonReviews.csv', index=False)\n",
    "print('Fin.')"
   ]
  }
 ],
 "metadata": {
  "kernelspec": {
   "display_name": "Python 3.9.7 64-bit",
   "language": "python",
   "name": "python3"
  },
  "language_info": {
   "name": "python",
   "version": "3.11.0"
  },
  "orig_nbformat": 4,
  "vscode": {
   "interpreter": {
    "hash": "aee8b7b246df8f9039afb4144a1f6fd8d2ca17a180786b69acc140d282b71a49"
   }
  }
 },
 "nbformat": 4,
 "nbformat_minor": 2
}
